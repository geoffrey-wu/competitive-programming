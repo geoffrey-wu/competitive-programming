{
 "cells": [
  {
   "cell_type": "code",
   "execution_count": 5,
   "metadata": {},
   "outputs": [
    {
     "name": "stdout",
     "output_type": "stream",
     "text": [
      "87163705\n"
     ]
    }
   ],
   "source": [
    "import re\n",
    "\n",
    "# f = open(\"test.txt\", \"r\")\n",
    "f = open(\"input.txt\", \"r\")\n",
    "\n",
    "total = 0\n",
    "line = \"\".join(f.readlines())\n",
    "s = line.split(\"don't()\")\n",
    "t = [s[0]]\n",
    "for a in s:\n",
    "    if \"do()\" in a:\n",
    "        i = a.index(\"do()\")\n",
    "        t.append(a[i + 4 :])\n",
    "\n",
    "for match in re.findall(r\"mul\\((\\d+),(\\d+)\\)\", \"\".join(t)):\n",
    "    a, b = match\n",
    "    a = int(a)\n",
    "    b = int(b)\n",
    "    total += a * b\n",
    "\n",
    "print(total)\n"
   ]
  },
  {
   "cell_type": "code",
   "execution_count": null,
   "metadata": {},
   "outputs": [],
   "source": []
  }
 ],
 "metadata": {
  "kernelspec": {
   "display_name": "base",
   "language": "python",
   "name": "python3"
  },
  "language_info": {
   "codemirror_mode": {
    "name": "ipython",
    "version": 3
   },
   "file_extension": ".py",
   "mimetype": "text/x-python",
   "name": "python",
   "nbconvert_exporter": "python",
   "pygments_lexer": "ipython3",
   "version": "3.12.2"
  }
 },
 "nbformat": 4,
 "nbformat_minor": 2
}
